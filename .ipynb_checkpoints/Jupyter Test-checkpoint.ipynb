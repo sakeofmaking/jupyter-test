{
 "cells": [
  {
   "cell_type": "code",
   "execution_count": null,
   "id": "functioning-inspiration",
   "metadata": {},
   "outputs": [
    {
     "name": "stdout",
     "output_type": "stream",
     "text": [
      "U5C4K15\n"
     ]
    }
   ],
   "source": [
    "import datetime\n",
    "\n",
    "\n",
    "# Initialized\n",
    "user_password = 'UNICORN'\n",
    "char_array = {0: '0', 1: '1', 2: '2', 3: '3', 4: '4', 5: '5', 6: '6', 7: '7', 8: '8', 9: '9', 10: 'A',\n",
    "              11: 'B', 12: 'C', 13: 'D', 14: 'E', 15: 'F', 16: 'G', 17: 'H', 18: 'I', 19: 'J', 20: 'K',\n",
    "              21: 'L', 22: 'M', 23: 'N', 24: 'O', 25: 'P', 26: 'Q', 27: 'R', 28: 'S', 29: 'T', 30: 'U',\n",
    "              31: 'V', 32: 'W', 33: 'X', 34: 'Y', 35: 'Z'}\n",
    "key2 = []\n",
    "key3 = []\n",
    "key4 = []\n",
    "\n",
    "\n",
    "# Depending on the date, produce an int\n",
    "date = datetime.datetime.now()\n",
    "day = str(date)[8:10]\n",
    "month = str(date)[5:7]\n",
    "year = str(date)[0:4]\n",
    "key1 = int(day) + int(month) + int(year)\n",
    "\n",
    "\n",
    "# Take key1 and use to encrypt user password\n",
    "# Convert user password to number using char array\n",
    "for a in user_password:\n",
    "    for z, y in char_array.items():\n",
    "        if y == a:\n",
    "            key2.append(z)\n",
    "\n",
    "\n",
    "# Use each digit of key1 to manipulate each digit of user_password\n",
    "for b in key2:\n",
    "    mod_b = key1 % (b + 1)\n",
    "    key3.append(mod_b)\n",
    "\n",
    "\n",
    "# Convert key3 back to string using char array\n",
    "for c in key3:\n",
    "    for x in char_array:\n",
    "        if c == x:\n",
    "            key4.append(char_array[x])\n",
    "\n",
    "\n",
    "# Print key4 to screen\n",
    "print(''.join(key4))\n",
    "print(input())"
   ]
  },
  {
   "cell_type": "code",
   "execution_count": null,
   "id": "welcome-thomas",
   "metadata": {},
   "outputs": [],
   "source": []
  }
 ],
 "metadata": {
  "kernelspec": {
   "display_name": "Python 3",
   "language": "python",
   "name": "python3"
  },
  "language_info": {
   "codemirror_mode": {
    "name": "ipython",
    "version": 3
   },
   "file_extension": ".py",
   "mimetype": "text/x-python",
   "name": "python",
   "nbconvert_exporter": "python",
   "pygments_lexer": "ipython3",
   "version": "3.8.5"
  }
 },
 "nbformat": 4,
 "nbformat_minor": 5
}
